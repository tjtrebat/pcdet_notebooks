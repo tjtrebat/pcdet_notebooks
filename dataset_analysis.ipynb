{
 "cells": [
  {
   "cell_type": "code",
   "execution_count": 1,
   "id": "ac5114e4-4af1-42c5-ac4f-48e919a7ff1a",
   "metadata": {},
   "outputs": [],
   "source": [
    "import sys\n",
    "import os\n",
    "\n",
    "PROJECT_ROOT = \"/home/tom/Documents/UNT/csce6260/projects/OpenPCDet\"\n",
    "sys.path.insert(0, PROJECT_ROOT)\n",
    "os.chdir(PROJECT_ROOT)\n",
    "\n",
    "from pcdet.config import cfg, cfg_from_yaml_file\n",
    "from pcdet.datasets.kitti.kitti_dataset import KittiDataset"
   ]
  },
  {
   "cell_type": "code",
   "execution_count": 2,
   "id": "9174651e-0df1-4fed-95db-a4585f899c65",
   "metadata": {},
   "outputs": [
    {
     "name": "stdout",
     "output_type": "stream",
     "text": [
      "Jupyter environment detected. Enabling Open3D WebVisualizer.\n",
      "[Open3D INFO] WebRTC GUI backend enabled.\n",
      "[Open3D INFO] WebRTCWindowSystem: HTTP handshake server disabled.\n"
     ]
    }
   ],
   "source": [
    "import open3d as o3d\n",
    "import numpy as np\n",
    "import matplotlib.pyplot as plt"
   ]
  },
  {
   "cell_type": "code",
   "execution_count": 3,
   "id": "635d2cd0-4d3c-4249-b8b2-f4d96a94a58a",
   "metadata": {},
   "outputs": [
    {
     "name": "stdout",
     "output_type": "stream",
     "text": [
      "Dataset length: 3769\n"
     ]
    }
   ],
   "source": [
    "cfg_file = os.path.join(PROJECT_ROOT, \"tools/cfgs/kitti_models/pointrcnn.yaml\")\n",
    "cfg_from_yaml_file(cfg_file, cfg)\n",
    "\n",
    "dataset = KittiDataset(\n",
    "    dataset_cfg=cfg.DATA_CONFIG,\n",
    "    class_names=cfg.CLASS_NAMES,\n",
    "    training=False\n",
    ")\n",
    "\n",
    "print(\"Dataset length:\", len(dataset))"
   ]
  },
  {
   "cell_type": "code",
   "execution_count": 4,
   "id": "bcba54be-9339-48df-a340-bdc0ca45e896",
   "metadata": {},
   "outputs": [
    {
     "name": "stdout",
     "output_type": "stream",
     "text": [
      "Points shape: (16384, 4)\n",
      "Frame ID: 000001\n",
      "Sample keys: dict_keys(['frame_id', 'calib', 'gt_boxes', 'points', 'lidar_aug_matrix', 'use_lead_xyz', 'image_shape'])\n"
     ]
    }
   ],
   "source": [
    "sample = dataset[0]\n",
    "points = sample['points']\n",
    "print(\"Points shape:\", points.shape)\n",
    "print(\"Frame ID:\", sample['frame_id'])\n",
    "print(\"Sample keys:\", sample.keys())"
   ]
  },
  {
   "cell_type": "code",
   "execution_count": 5,
   "id": "764708ee-ab6f-4e6f-a373-855019ab9fa3",
   "metadata": {},
   "outputs": [
    {
     "name": "stdout",
     "output_type": "stream",
     "text": [
      "\u001b[1;33m[Open3D WARNING] GLFW Error: Wayland: The platform does not support setting the window position\u001b[0;m\n",
      "\u001b[1;33m[Open3D WARNING] Failed to initialize GLEW.\u001b[0;m\n",
      "\u001b[1;33m[Open3D WARNING] [DrawGeometries] Failed creating OpenGL window.\u001b[0;m\n"
     ]
    }
   ],
   "source": [
    "points = sample['points'][:, :3]\n",
    "\n",
    "pcd = o3d.geometry.PointCloud()\n",
    "pcd.points = o3d.utility.Vector3dVector(points)\n",
    "\n",
    "z = points[:, 2]\n",
    "z_norm = (z - z.min()) / (z.max() - z.min() + 1e-6)\n",
    "colors = plt.cm.jet(z_norm)[:, :3]\n",
    "pcd.colors = o3d.utility.Vector3dVector(colors)\n",
    "\n",
    "gt_boxes = sample['gt_boxes']\n",
    "boxes = []\n",
    "\n",
    "class_colors = {\n",
    "    1: (1, 0, 0),\n",
    "    2: (0, 1, 0),\n",
    "    3: (0, 0, 1),\n",
    "}\n",
    "\n",
    "for box in gt_boxes:\n",
    "    x, y, z, dx, dy, dz, heading, class_idx = box\n",
    "    class_idx = int(class_idx)\n",
    "    obb = o3d.geometry.OrientedBoundingBox(\n",
    "        center=[0, 0, 0],\n",
    "        R=o3d.geometry.get_rotation_matrix_from_xyz([0, 0, heading]),\n",
    "        extent=[dx, dy, dz]\n",
    "    )\n",
    "    obb.translate([x, y, z])\n",
    "    obb.color = class_colors.get(class_idx, (1, 1, 1))\n",
    "    boxes.append(obb)\n",
    "\n",
    "o3d.visualization.draw_geometries([pcd, *boxes])"
   ]
  }
 ],
 "metadata": {
  "kernelspec": {
   "display_name": "Python (pcdet)",
   "language": "python",
   "name": "pcdet-env"
  },
  "language_info": {
   "codemirror_mode": {
    "name": "ipython",
    "version": 3
   },
   "file_extension": ".py",
   "mimetype": "text/x-python",
   "name": "python",
   "nbconvert_exporter": "python",
   "pygments_lexer": "ipython3",
   "version": "3.12.3"
  }
 },
 "nbformat": 4,
 "nbformat_minor": 5
}
