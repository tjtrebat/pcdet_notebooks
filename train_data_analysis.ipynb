{
 "cells": [
  {
   "cell_type": "code",
   "execution_count": 1,
   "id": "cccb33b7-aac1-403e-b3cc-961ca35c8a67",
   "metadata": {},
   "outputs": [],
   "source": [
    "import pickle\n",
    "\n",
    "from pathlib import Path"
   ]
  },
  {
   "cell_type": "code",
   "execution_count": 2,
   "id": "a8b5ddec-f89a-4470-b7b8-0b516c26be8b",
   "metadata": {},
   "outputs": [
    {
     "data": {
      "text/plain": [
       "{'point_cloud': {'num_features': 4, 'lidar_idx': '000000'},\n",
       " 'image': {'image_idx': '000000',\n",
       "  'image_shape': array([ 370, 1224], dtype=int32)},\n",
       " 'calib': {'P2': array([[ 7.07049316e+02,  0.00000000e+00,  6.04081421e+02,\n",
       "           4.57583084e+01],\n",
       "         [ 0.00000000e+00,  7.07049316e+02,  1.80506607e+02,\n",
       "          -3.45415711e-01],\n",
       "         [ 0.00000000e+00,  0.00000000e+00,  1.00000000e+00,\n",
       "           4.98101581e-03],\n",
       "         [ 0.00000000e+00,  0.00000000e+00,  0.00000000e+00,\n",
       "           1.00000000e+00]]),\n",
       "  'R0_rect': array([[ 0.9999128 ,  0.01009263, -0.00851193,  0.        ],\n",
       "         [-0.01012729,  0.9999406 , -0.00403767,  0.        ],\n",
       "         [ 0.00847067,  0.00412352,  0.9999556 ,  0.        ],\n",
       "         [ 0.        ,  0.        ,  0.        ,  1.        ]],\n",
       "        dtype=float32),\n",
       "  'Tr_velo_to_cam': array([[ 0.00692796, -0.99997222, -0.00275783, -0.02457729],\n",
       "         [-0.00116298,  0.00274984, -0.99999553, -0.06127237],\n",
       "         [ 0.99997532,  0.00693114, -0.0011439 , -0.33210289],\n",
       "         [ 0.        ,  0.        ,  0.        ,  1.        ]])},\n",
       " 'annos': {'name': array(['Pedestrian'], dtype='<U10'),\n",
       "  'truncated': array([0.]),\n",
       "  'occluded': array([0.]),\n",
       "  'alpha': array([-0.2]),\n",
       "  'bbox': array([[712.4 , 143.  , 810.73, 307.92]], dtype=float32),\n",
       "  'dimensions': array([[1.2 , 1.89, 0.48]]),\n",
       "  'location': array([[1.84, 1.47, 8.41]], dtype=float32),\n",
       "  'rotation_y': array([0.01]),\n",
       "  'score': array([-1.]),\n",
       "  'difficulty': array([0], dtype=int32),\n",
       "  'index': array([0], dtype=int32),\n",
       "  'gt_boxes_lidar': array([[ 8.73138142, -1.85591757, -0.65469939,  1.2       ,  0.48      ,\n",
       "           1.89      , -1.58079633]]),\n",
       "  'num_points_in_gt': array([377], dtype=int32)}}"
      ]
     },
     "execution_count": 2,
     "metadata": {},
     "output_type": "execute_result"
    }
   ],
   "source": [
    "infos_train_path = Path(\"/home/tom/kitti/kitti_infos/kitti_infos_train.pkl\")\n",
    "\n",
    "with open(infos_train_path, \"rb\") as f:\n",
    "    infos_train = pickle.load(f)\n",
    "\n",
    "infos_train[0]"
   ]
  }
 ],
 "metadata": {
  "kernelspec": {
   "display_name": "Python (pcdet)",
   "language": "python",
   "name": "pcdet-env"
  },
  "language_info": {
   "codemirror_mode": {
    "name": "ipython",
    "version": 3
   },
   "file_extension": ".py",
   "mimetype": "text/x-python",
   "name": "python",
   "nbconvert_exporter": "python",
   "pygments_lexer": "ipython3",
   "version": "3.12.3"
  }
 },
 "nbformat": 4,
 "nbformat_minor": 5
}
