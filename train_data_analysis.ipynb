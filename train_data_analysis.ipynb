{
 "cells": [
  {
   "cell_type": "code",
   "execution_count": 1,
   "id": "c0c7ae4b-1694-4a69-95f3-b4c7f5f2cf2a",
   "metadata": {},
   "outputs": [
    {
     "name": "stdout",
     "output_type": "stream",
     "text": [
      "Jupyter environment detected. Enabling Open3D WebVisualizer.\n",
      "[Open3D INFO] WebRTC GUI backend enabled.\n",
      "[Open3D INFO] WebRTCWindowSystem: HTTP handshake server disabled.\n"
     ]
    }
   ],
   "source": [
    "import pickle\n",
    "\n",
    "import numpy as np\n",
    "import open3d as o3d\n",
    "import matplotlib.pyplot as plt\n",
    "\n",
    "from pathlib import Path"
   ]
  },
  {
   "cell_type": "code",
   "execution_count": 2,
   "id": "2ba036f9-cca3-491c-8383-136428bc8b7e",
   "metadata": {},
   "outputs": [
    {
     "name": "stdout",
     "output_type": "stream",
     "text": [
      "Sample keys: dict_keys(['frame_id', 'gt_boxes', 'points', 'flip_x', 'noise_rot', 'noise_scale', 'lidar_aug_matrix', 'use_lead_xyz', 'image_shape'])\n"
     ]
    }
   ],
   "source": [
    "data_dir = Path.cwd() / \"data\"\n",
    "sample_file_path = \"sample_000000.pkl\"\n",
    "sample_file_path = data_dir / sample_file_path\n",
    "\n",
    "with open(sample_file_path, \"rb\") as f:\n",
    "    sample = pickle.load(f)\n",
    "\n",
    "print(\"Sample keys:\", sample.keys())"
   ]
  },
  {
   "cell_type": "code",
   "execution_count": 3,
   "id": "9f0804a7-be57-4a2d-aba8-ee9ba6c30971",
   "metadata": {},
   "outputs": [
    {
     "name": "stdout",
     "output_type": "stream",
     "text": [
      "Points shape: (16384, 4)\n",
      "Min/Max values for all dimensions\n",
      "X: (5.25, 63.28)\n",
      "Y: (-15.11, 29.17)\n",
      "Z: (-2.43, 2.02)\n"
     ]
    }
   ],
   "source": [
    "points = sample['points']\n",
    "\n",
    "print(\"Points shape:\", points.shape)\n",
    "print('Min/Max values for all dimensions')\n",
    "min_x, max_x = np.min(points[:, 0]), np.max(points[:, 0])\n",
    "min_y, max_y = np.min(points[:, 1]), np.max(points[:, 1])\n",
    "min_z, max_z = np.min(points[:, 2]), np.max(points[:, 2])\n",
    "print(f\"X: ({min_x:.2f}, {max_x:.2f})\")\n",
    "print(f\"Y: ({min_y:.2f}, {max_y:.2f})\")\n",
    "print(f\"Z: ({min_z:.2f}, {max_z:.2f})\")"
   ]
  },
  {
   "cell_type": "code",
   "execution_count": 4,
   "id": "d5f71594-f012-4760-a702-057316497328",
   "metadata": {},
   "outputs": [],
   "source": [
    "CLASS_COLORS = {\n",
    "    1: (1, 0, 0),    # Car     (red)\n",
    "    2: (0, 1, 0),    # Pedestrian (green)\n",
    "    3: (0, 0, 1)     # Cyclist (blue)\n",
    "}\n",
    "\n",
    "def get_point_colors(z):\n",
    "    z_norm = (z - z.min()) / (z.max() - z.min() + 1e-6)\n",
    "    colors = plt.cm.jet(z_norm)[:, :3]\n",
    "    return colors\n",
    "\n",
    "def create_point_cloud(points):\n",
    "    pcd = o3d.geometry.PointCloud()\n",
    "    pcd.points = o3d.utility.Vector3dVector(points)\n",
    "    colors = get_point_colors(points[:, 2])\n",
    "    pcd.colors = o3d.utility.Vector3dVector(colors)\n",
    "    return pcd\n",
    "\n",
    "def get_gt_oriented_bounding_boxes(gt_boxes):\n",
    "    boxes = []\n",
    "    for box in gt_boxes:\n",
    "        x, y, z, dx, dy, dz, heading, class_idx = box\n",
    "        class_idx = int(class_idx)\n",
    "        obb = o3d.geometry.OrientedBoundingBox(\n",
    "            center=[0, 0, 0],\n",
    "            R=o3d.geometry.get_rotation_matrix_from_xyz([0, 0, heading]),\n",
    "            extent=[dx, dy, dz]\n",
    "        )\n",
    "        obb.translate([x, y, z])\n",
    "        obb.color = CLASS_COLORS.get(class_idx, (1, 1, 1))\n",
    "        boxes.append(obb)\n",
    "    return boxes\n",
    "\n",
    "\n",
    "points = sample['points'][:, :3]\n",
    "pcd = create_point_cloud(points)\n",
    "gt_boxes = get_gt_oriented_bounding_boxes(sample['gt_boxes'])\n",
    "o3d.visualization.draw_geometries([pcd, *gt_boxes])"
   ]
  }
 ],
 "metadata": {
  "kernelspec": {
   "display_name": "Python (pcdet)",
   "language": "python",
   "name": "pcdet-env"
  },
  "language_info": {
   "codemirror_mode": {
    "name": "ipython",
    "version": 3
   },
   "file_extension": ".py",
   "mimetype": "text/x-python",
   "name": "python",
   "nbconvert_exporter": "python",
   "pygments_lexer": "ipython3",
   "version": "3.12.3"
  }
 },
 "nbformat": 4,
 "nbformat_minor": 5
}
