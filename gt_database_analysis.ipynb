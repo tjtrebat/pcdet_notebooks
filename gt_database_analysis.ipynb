{
 "cells": [
  {
   "cell_type": "code",
   "execution_count": 1,
   "id": "a300d4c4-aabf-4a0b-9d60-a57d106d837b",
   "metadata": {},
   "outputs": [],
   "source": [
    "import pickle\n",
    "\n",
    "from pathlib import Path"
   ]
  },
  {
   "cell_type": "code",
   "execution_count": 2,
   "id": "1b4a3b5d-b0b6-49b1-8995-24a5ad6110e7",
   "metadata": {},
   "outputs": [
    {
     "name": "stdout",
     "output_type": "stream",
     "text": [
      "Dbinfos keys: dict_keys([np.str_('Pedestrian'), np.str_('Car'), np.str_('Cyclist'), np.str_('Van'), np.str_('Truck'), np.str_('Tram'), np.str_('Misc'), np.str_('Person_sitting')])\n"
     ]
    }
   ],
   "source": [
    "dbinfos_path = Path(\"/home/tom/kitti/kitti_infos/kitti_dbinfos_train.pkl\")\n",
    "\n",
    "with open(dbinfos_path, \"rb\") as f:\n",
    "    dbinfos = pickle.load(f)\n",
    "\n",
    "print(\"Dbinfos keys:\", dbinfos.keys())"
   ]
  },
  {
   "cell_type": "code",
   "execution_count": 3,
   "id": "4cb913c3-5135-4a14-8624-1897a4ca406c",
   "metadata": {},
   "outputs": [
    {
     "data": {
      "text/plain": [
       "[{'name': np.str_('Car'),\n",
       "  'path': 'gt_database/000003_Car_0.bin',\n",
       "  'image_idx': '000003',\n",
       "  'gt_idx': 0,\n",
       "  'box3d_lidar': array([13.51070309, -0.98177999, -0.90948981,  4.15      ,  1.73      ,\n",
       "          1.57      , -3.19079633]),\n",
       "  'num_points_in_gt': 677,\n",
       "  'difficulty': np.int32(0),\n",
       "  'bbox': array([614.24, 181.78, 727.31, 284.77], dtype=float32),\n",
       "  'score': np.float64(-1.0)},\n",
       " {'name': np.str_('Car'),\n",
       "  'path': 'gt_database/000007_Car_0.bin',\n",
       "  'image_idx': '000007',\n",
       "  'gt_idx': 0,\n",
       "  'box3d_lidar': array([ 2.52990360e+01,  7.08958089e-01, -6.88423336e-01,  3.20000000e+00,\n",
       "          1.66000000e+00,  1.61000000e+00,  1.92036732e-02]),\n",
       "  'num_points_in_gt': 183,\n",
       "  'difficulty': np.int32(0),\n",
       "  'bbox': array([564.62, 174.59, 616.43, 224.74], dtype=float32),\n",
       "  'score': np.float64(-1.0)},\n",
       " {'name': np.str_('Car'),\n",
       "  'path': 'gt_database/000007_Car_1.bin',\n",
       "  'image_idx': '000007',\n",
       "  'gt_idx': 1,\n",
       "  'box3d_lidar': array([47.83820724,  7.45339251, -0.67663211,  3.7       ,  1.51      ,\n",
       "          1.4       , -3.12079633]),\n",
       "  'num_points_in_gt': 20,\n",
       "  'difficulty': np.int32(-1),\n",
       "  'bbox': array([481.59, 180.09, 512.55, 202.42], dtype=float32),\n",
       "  'score': np.float64(-1.0)},\n",
       " {'name': np.str_('Car'),\n",
       "  'path': 'gt_database/000007_Car_2.bin',\n",
       "  'image_idx': '000007',\n",
       "  'gt_idx': 2,\n",
       "  'box3d_lidar': array([60.80636215,  4.73336124, -0.36983016,  4.05      ,  1.66      ,\n",
       "          1.46      , -3.13079633]),\n",
       "  'num_points_in_gt': 5,\n",
       "  'difficulty': np.int32(-1),\n",
       "  'bbox': array([542.05, 175.55, 565.27, 193.79], dtype=float32),\n",
       "  'score': np.float64(-1.0)},\n",
       " {'name': np.str_('Car'),\n",
       "  'path': 'gt_database/000009_Car_0.bin',\n",
       "  'image_idx': '000009',\n",
       "  'gt_idx': 0,\n",
       "  'box3d_lidar': array([24.17015457, -0.68036532, -0.78490871,  3.2       ,  1.66      ,\n",
       "          1.61      , -0.09079633]),\n",
       "  'num_points_in_gt': 219,\n",
       "  'difficulty': np.int32(0),\n",
       "  'bbox': array([601.96, 177.01, 659.15, 229.51], dtype=float32),\n",
       "  'score': np.float64(-1.0)}]"
      ]
     },
     "execution_count": 3,
     "metadata": {},
     "output_type": "execute_result"
    }
   ],
   "source": [
    "dbinfos['Car'][:5]"
   ]
  },
  {
   "cell_type": "code",
   "execution_count": 4,
   "id": "9d8e87a2-1b2a-4d72-8c43-39b7d1d53b42",
   "metadata": {},
   "outputs": [
    {
     "data": {
      "text/plain": [
       "14357"
      ]
     },
     "execution_count": 4,
     "metadata": {},
     "output_type": "execute_result"
    }
   ],
   "source": [
    "len(dbinfos['Car'])"
   ]
  }
 ],
 "metadata": {
  "kernelspec": {
   "display_name": "Python (pcdet)",
   "language": "python",
   "name": "pcdet-env"
  },
  "language_info": {
   "codemirror_mode": {
    "name": "ipython",
    "version": 3
   },
   "file_extension": ".py",
   "mimetype": "text/x-python",
   "name": "python",
   "nbconvert_exporter": "python",
   "pygments_lexer": "ipython3",
   "version": "3.12.3"
  }
 },
 "nbformat": 4,
 "nbformat_minor": 5
}
