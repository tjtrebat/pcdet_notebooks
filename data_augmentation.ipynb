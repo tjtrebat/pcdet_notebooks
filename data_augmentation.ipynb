{
 "cells": [
  {
   "cell_type": "code",
   "execution_count": 1,
   "id": "2fbe1cb0-4c95-404c-ba3c-5d8d889b8afd",
   "metadata": {},
   "outputs": [],
   "source": [
    "import pickle"
   ]
  },
  {
   "cell_type": "code",
   "execution_count": 2,
   "id": "81518ef6-ad16-48a7-8873-9052ce35b831",
   "metadata": {},
   "outputs": [],
   "source": [
    "with open(\"data/sample_000000.pkl\", \"rb\") as f:\n",
    "    sample = pickle.load(f)"
   ]
  },
  {
   "cell_type": "code",
   "execution_count": 4,
   "id": "635caed4-ed41-4ecf-9a98-1d0f18595015",
   "metadata": {},
   "outputs": [
    {
     "name": "stdout",
     "output_type": "stream",
     "text": [
      "Points shape: (16384, 4)\n",
      "Frame ID: 000000\n",
      "Sample keys: dict_keys(['frame_id', 'gt_boxes', 'points', 'flip_x', 'noise_rot', 'noise_scale', 'lidar_aug_matrix', 'use_lead_xyz', 'image_shape'])\n",
      "[[15.322624   -0.9945517  -1.3005242   0.37      ]\n",
      " [16.28796     5.4508047  -0.45010167  0.32      ]\n",
      " [11.225035    7.8189     -1.5432059   0.21      ]\n",
      " ...\n",
      " [10.327182    5.269324   -1.5712075   0.4       ]\n",
      " [13.737979   -5.4365177  -1.3347485   0.22      ]\n",
      " [12.59426    10.674768    0.26653486  0.27      ]]\n"
     ]
    }
   ],
   "source": [
    "points = sample['points']\n",
    "print(\"Points shape:\", points.shape)\n",
    "print(\"Frame ID:\", sample['frame_id'])\n",
    "print(\"Sample keys:\", sample.keys())\n",
    "print(sample['points'])"
   ]
  }
 ],
 "metadata": {
  "kernelspec": {
   "display_name": "Python (pcdet)",
   "language": "python",
   "name": "pcdet-env"
  },
  "language_info": {
   "codemirror_mode": {
    "name": "ipython",
    "version": 3
   },
   "file_extension": ".py",
   "mimetype": "text/x-python",
   "name": "python",
   "nbconvert_exporter": "python",
   "pygments_lexer": "ipython3",
   "version": "3.12.3"
  }
 },
 "nbformat": 4,
 "nbformat_minor": 5
}
