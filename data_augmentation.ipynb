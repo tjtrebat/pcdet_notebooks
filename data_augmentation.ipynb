{
 "cells": [
  {
   "cell_type": "code",
   "execution_count": 1,
   "id": "2fbe1cb0-4c95-404c-ba3c-5d8d889b8afd",
   "metadata": {},
   "outputs": [
    {
     "name": "stdout",
     "output_type": "stream",
     "text": [
      "Jupyter environment detected. Enabling Open3D WebVisualizer.\n",
      "[Open3D INFO] WebRTC GUI backend enabled.\n",
      "[Open3D INFO] WebRTCWindowSystem: HTTP handshake server disabled.\n"
     ]
    }
   ],
   "source": [
    "import pickle\n",
    "\n",
    "import numpy as np\n",
    "import open3d as o3d\n",
    "import matplotlib.pyplot as plt"
   ]
  },
  {
   "cell_type": "code",
   "execution_count": 2,
   "id": "81518ef6-ad16-48a7-8873-9052ce35b831",
   "metadata": {},
   "outputs": [],
   "source": [
    "with open(\"data/sample_000000.pkl\", \"rb\") as f:\n",
    "    sample = pickle.load(f)"
   ]
  },
  {
   "cell_type": "code",
   "execution_count": 3,
   "id": "635caed4-ed41-4ecf-9a98-1d0f18595015",
   "metadata": {},
   "outputs": [
    {
     "name": "stdout",
     "output_type": "stream",
     "text": [
      "Points shape: (16384, 4)\n",
      "Frame ID: 000000\n",
      "Sample keys: dict_keys(['frame_id', 'gt_boxes', 'points', 'flip_x', 'noise_rot', 'noise_scale', 'lidar_aug_matrix', 'use_lead_xyz', 'image_shape'])\n",
      "[[15.322624   -0.9945517  -1.3005242   0.37      ]\n",
      " [16.28796     5.4508047  -0.45010167  0.32      ]\n",
      " [11.225035    7.8189     -1.5432059   0.21      ]\n",
      " ...\n",
      " [10.327182    5.269324   -1.5712075   0.4       ]\n",
      " [13.737979   -5.4365177  -1.3347485   0.22      ]\n",
      " [12.59426    10.674768    0.26653486  0.27      ]]\n"
     ]
    }
   ],
   "source": [
    "points = sample['points']\n",
    "print(\"Points shape:\", points.shape)\n",
    "print(\"Frame ID:\", sample['frame_id'])\n",
    "print(\"Sample keys:\", sample.keys())\n",
    "print(sample['points'])"
   ]
  },
  {
   "cell_type": "code",
   "execution_count": 4,
   "id": "163675d7-a158-4c94-ac4f-9ae89e703c81",
   "metadata": {},
   "outputs": [],
   "source": [
    "CLASS_NAMES = ['Car', 'Pedestrian', 'Cyclist']\n",
    "\n",
    "CLASS_COLORS = {\n",
    "    1: (1, 0, 0),    # Car     (red)\n",
    "    2: (0, 1, 0),    # Pedestrian (green)\n",
    "    3: (0, 0, 1)     # Cyclist (blue)\n",
    "}"
   ]
  },
  {
   "cell_type": "code",
   "execution_count": 12,
   "id": "4d0f6af4-619b-44b0-becb-6d2a10e49bc4",
   "metadata": {},
   "outputs": [],
   "source": [
    "points = sample['points'][:, :3]\n",
    "\n",
    "pcd = o3d.geometry.PointCloud()\n",
    "pcd.points = o3d.utility.Vector3dVector(points)\n",
    "\n",
    "z = points[:, 2]\n",
    "z_norm = (z - z.min()) / (z.max() - z.min() + 1e-6)\n",
    "colors = plt.cm.jet(z_norm)[:, :3]\n",
    "pcd.colors = o3d.utility.Vector3dVector(colors)\n",
    "\n",
    "gt_boxes = sample['gt_boxes']\n",
    "\n",
    "def get_gt_oriented_bounding_boxes(gt_boxes):\n",
    "    boxes = []\n",
    "    for box in gt_boxes:\n",
    "        x, y, z, dx, dy, dz, heading, class_idx = box\n",
    "        class_idx = int(class_idx)\n",
    "        obb = o3d.geometry.OrientedBoundingBox(\n",
    "            center=[0, 0, 0],\n",
    "            R=o3d.geometry.get_rotation_matrix_from_xyz([0, 0, heading]),\n",
    "            extent=[dx, dy, dz]\n",
    "        )\n",
    "        obb.translate([x, y, z])\n",
    "        obb.color = CLASS_COLORS.get(class_idx, (1, 1, 1))\n",
    "        boxes.append(obb)\n",
    "    return boxes\n",
    "\n",
    "o3d.visualization.draw_geometries([pcd, *get_gt_oriented_bounding_boxes(gt_boxes)])"
   ]
  },
  {
   "cell_type": "code",
   "execution_count": 6,
   "id": "a5c3cdb4-adaf-4f33-85cc-e932335eb2cf",
   "metadata": {},
   "outputs": [
    {
     "data": {
      "text/plain": [
       "[{'type': 'Pedestrian',\n",
       "  'truncation': 0.0,\n",
       "  'occlusion': 0,\n",
       "  'alpha': -0.2,\n",
       "  'bbox': [712.4, 143.0, 810.73, 307.92],\n",
       "  'dimensions': [1.89, 0.48, 1.2],\n",
       "  'location': [1.84, 1.47, 8.41],\n",
       "  'rotation_y': 0.01}]"
      ]
     },
     "execution_count": 6,
     "metadata": {},
     "output_type": "execute_result"
    }
   ],
   "source": [
    "label_path = \"/home/tom/kitti/training/label_2/000000.txt\"\n",
    "\n",
    "labels = []\n",
    "with open(label_path, \"r\") as f:\n",
    "    for line in f.readlines():\n",
    "        fields = line.strip().split(\" \")\n",
    "        obj = {\n",
    "            \"type\": fields[0],                    # Car, Pedestrian, Cyclist, ...\n",
    "            \"truncation\": float(fields[1]),\n",
    "            \"occlusion\": int(fields[2]),\n",
    "            \"alpha\": float(fields[3]),\n",
    "            \"bbox\": list(map(float, fields[4:8])),       # [xmin, ymin, xmax, ymax]\n",
    "            \"dimensions\": list(map(float, fields[8:11])),# [h, w, l]\n",
    "            \"location\": list(map(float, fields[11:14])), # [x, y, z] in camera coords\n",
    "            \"rotation_y\": float(fields[14])              # rotation around y-axis\n",
    "        }\n",
    "        labels.append(obj)\n",
    "\n",
    "labels"
   ]
  },
  {
   "cell_type": "code",
   "execution_count": 7,
   "id": "8b2351b0-0dd2-4bbd-9ec9-00b2e932e706",
   "metadata": {},
   "outputs": [],
   "source": [
    "def inverse_rigid_transform(transform):\n",
    "    inv = np.zeros_like(transform)\n",
    "    R = transform[0:3, 0:3]\n",
    "    t = transform[0:3, 3]\n",
    "    inv[0:3, 0:3] = R.T\n",
    "    inv[0:3, 3] = -R.T @ t\n",
    "    inv[3, 3] = 1.0\n",
    "    return inv\n",
    "\n",
    "\n",
    "def transform_points(points, transform):\n",
    "    points_hom = np.c_[points, np.ones(points.shape[0])]\n",
    "    transformed = points_hom @ transform.T\n",
    "    return transformed[:, :3]\n",
    "\n",
    "def compute_box_3d(label, transform):\n",
    "    h, w, l = label[\"dimensions\"]\n",
    "    x, y, z = label[\"location\"]\n",
    "    ry = label[\"rotation_y\"]\n",
    "    x_corners = [ l/2,  l/2, -l/2, -l/2,  l/2,  l/2, -l/2, -l/2]\n",
    "    y_corners = [    0,    0,    0,    0,  -h,  -h,  -h,  -h]\n",
    "    z_corners = [ w/2, -w/2, -w/2,  w/2,  w/2, -w/2, -w/2,  w/2]\n",
    "    corners = np.vstack([x_corners, y_corners, z_corners])\n",
    "    R = np.array([\n",
    "        [ np.cos(ry), 0, np.sin(ry)],\n",
    "        [          0, 1,          0],\n",
    "        [-np.sin(ry), 0, np.cos(ry)]\n",
    "    ])\n",
    "    corners_3d = R @ corners + np.array([[x], [y], [z]])\n",
    "    return transform_points(corners_3d.T, transform)"
   ]
  },
  {
   "cell_type": "code",
   "execution_count": 8,
   "id": "da8f5f38-3d14-49ed-a893-9422059a166d",
   "metadata": {},
   "outputs": [
    {
     "data": {
      "text/plain": [
       "array([[ 0.00692796, -0.00116298,  0.99997532,  0.33219371],\n",
       "       [-0.99997222,  0.00274984,  0.00693114, -0.02210627],\n",
       "       [-0.00275783, -0.99999553, -0.0011439 , -0.06171977],\n",
       "       [ 0.        ,  0.        ,  0.        ,  1.        ]])"
      ]
     },
     "execution_count": 8,
     "metadata": {},
     "output_type": "execute_result"
    }
   ],
   "source": [
    "def parse_calib_file(calib_file_path):\n",
    "    calib_keys = ['P0', 'P1', 'P2', 'P3', 'R0','Tr_velo_to_cam', 'Tr_imu_to_velo']\n",
    "    calibration_matrices = dict()\n",
    "    with open(calib_file_path, \"r\") as file:\n",
    "        calib_lines = file.readlines()\n",
    "        for i, key in enumerate(calib_keys):\n",
    "            elems = calib_lines[i].split(' ')\n",
    "            elems = elems[1:]\n",
    "            calib_matrix = np.array(elems, dtype=np.float32)\n",
    "            if key == 'R0':\n",
    "                calib_matrix_shape = (3, 3)\n",
    "            else:\n",
    "                calib_matrix_shape = (3, 4)\n",
    "            calib_matrix = calib_matrix.reshape(calib_matrix_shape)\n",
    "            calibration_matrices[key] = calib_matrix\n",
    "    return calibration_matrices\n",
    "\n",
    "calib_file_path = \"/home/tom/kitti/training/calib/000000.txt\"\n",
    "calib = parse_calib_file(calib_file_path)\n",
    "Tr_velo_to_cam = calib['Tr_velo_to_cam']\n",
    "Tr_velo_to_cam = np.vstack((Tr_velo_to_cam, [0, 0, 0, 1]))\n",
    "Tr_cam_to_velo = inverse_rigid_transform(Tr_velo_to_cam)\n",
    "Tr_cam_to_velo"
   ]
  },
  {
   "cell_type": "code",
   "execution_count": 9,
   "id": "9b428353-0049-4ea2-b09d-b39c9230dad9",
   "metadata": {},
   "outputs": [
    {
     "name": "stdout",
     "output_type": "stream",
     "text": [
      "[OrientedBoundingBox: center: (8.75412, -1.80232, -0.601412), extent: 1.89, 1.2, 0.48)]\n"
     ]
    }
   ],
   "source": [
    "gt_oriented_boxes = []\n",
    "for label in labels:\n",
    "    corners_3d_velo = compute_box_3d(label, Tr_cam_to_velo)\n",
    "    pcd = o3d.geometry.PointCloud()\n",
    "    pcd.points = o3d.utility.Vector3dVector(corners_3d_velo)\n",
    "    oriented_bbox = pcd.get_oriented_bounding_box()\n",
    "    oriented_bbox.color = (0, 1, 0)\n",
    "    gt_oriented_boxes.append(oriented_bbox)\n",
    "print(gt_oriented_boxes)"
   ]
  },
  {
   "cell_type": "code",
   "execution_count": 11,
   "id": "cf865403-eea0-4875-856b-20a66f203a45",
   "metadata": {},
   "outputs": [],
   "source": [
    "bin_path = \"/home/tom/kitti/training/velodyne/000000.bin\"\n",
    "points = np.fromfile(bin_path, dtype=np.float32).reshape(-1, 4)\n",
    "\n",
    "pcd = o3d.geometry.PointCloud()\n",
    "pcd.points = o3d.utility.Vector3dVector(points[:, :3])\n",
    "\n",
    "z = points[:, 2]\n",
    "z_norm = (z - z.min()) / (z.max() - z.min() + 1e-6)\n",
    "colors = plt.cm.jet(z_norm)[:, :3]\n",
    "pcd.colors = o3d.utility.Vector3dVector(colors)\n",
    "\n",
    "o3d.visualization.draw_geometries([pcd, *gt_oriented_boxes])"
   ]
  }
 ],
 "metadata": {
  "kernelspec": {
   "display_name": "Python (pcdet)",
   "language": "python",
   "name": "pcdet-env"
  },
  "language_info": {
   "codemirror_mode": {
    "name": "ipython",
    "version": 3
   },
   "file_extension": ".py",
   "mimetype": "text/x-python",
   "name": "python",
   "nbconvert_exporter": "python",
   "pygments_lexer": "ipython3",
   "version": "3.12.3"
  }
 },
 "nbformat": 4,
 "nbformat_minor": 5
}
