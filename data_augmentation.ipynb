{
 "cells": [
  {
   "cell_type": "code",
   "execution_count": 1,
   "id": "2fbe1cb0-4c95-404c-ba3c-5d8d889b8afd",
   "metadata": {},
   "outputs": [
    {
     "name": "stdout",
     "output_type": "stream",
     "text": [
      "Jupyter environment detected. Enabling Open3D WebVisualizer.\n",
      "[Open3D INFO] WebRTC GUI backend enabled.\n",
      "[Open3D INFO] WebRTCWindowSystem: HTTP handshake server disabled.\n"
     ]
    }
   ],
   "source": [
    "import pickle\n",
    "\n",
    "import numpy as np\n",
    "import open3d as o3d\n",
    "import matplotlib.pyplot as plt"
   ]
  },
  {
   "cell_type": "code",
   "execution_count": 2,
   "id": "e16f4e4f-d1fb-442a-abff-2b05c2061c6b",
   "metadata": {},
   "outputs": [
    {
     "data": {
      "text/plain": [
       "<module 'calibration_utils' from '/home/tom/Documents/UNT/csce6260/projects/pcdet_notebooks/calibration_utils.py'>"
      ]
     },
     "execution_count": 2,
     "metadata": {},
     "output_type": "execute_result"
    }
   ],
   "source": [
    "import utils\n",
    "import calibration_utils\n",
    "\n",
    "import importlib\n",
    "importlib.reload(utils)\n",
    "importlib.reload(calibration_utils)"
   ]
  },
  {
   "cell_type": "code",
   "execution_count": 3,
   "id": "0c02dcab-c6ef-4af3-9946-03f2ab134241",
   "metadata": {},
   "outputs": [],
   "source": [
    "CLASS_COLORS = {\n",
    "    1: (1, 0, 0),    # Car     (red)\n",
    "    2: (0, 1, 0),    # Pedestrian (green)\n",
    "    3: (0, 0, 1)     # Cyclist (blue)\n",
    "}\n",
    "\n",
    "def get_point_colors(z):\n",
    "    z_norm = (z - z.min()) / (z.max() - z.min() + 1e-6)\n",
    "    colors = plt.cm.jet(z_norm)[:, :3]\n",
    "    return colors\n",
    "\n",
    "def create_point_cloud(points):\n",
    "    pcd = o3d.geometry.PointCloud()\n",
    "    pcd.points = o3d.utility.Vector3dVector(points)\n",
    "    colors = get_point_colors(points[:, 2])\n",
    "    pcd.colors = o3d.utility.Vector3dVector(colors)\n",
    "    return pcd\n",
    "\n",
    "def get_min_and_max_values(points):\n",
    "    min_x, max_x = np.min(points[:, 0]), np.max(points[:, 0])\n",
    "    min_y, max_y = np.min(points[:, 1]), np.max(points[:, 1])\n",
    "    min_z, max_z = np.min(points[:, 2]), np.max(points[:, 2])\n",
    "    return min_x, max_x, min_y, max_y, min_z, max_z"
   ]
  },
  {
   "cell_type": "markdown",
   "id": "6e083fed-8cfd-419d-965e-49e22fd6929b",
   "metadata": {},
   "source": [
    "### Augmented Data"
   ]
  },
  {
   "cell_type": "code",
   "execution_count": 4,
   "id": "81518ef6-ad16-48a7-8873-9052ce35b831",
   "metadata": {},
   "outputs": [
    {
     "name": "stdout",
     "output_type": "stream",
     "text": [
      "Sample keys: dict_keys(['frame_id', 'gt_boxes', 'points', 'flip_x', 'noise_rot', 'noise_scale', 'lidar_aug_matrix', 'use_lead_xyz', 'image_shape'])\n"
     ]
    }
   ],
   "source": [
    "with open(\"data/sample_000000.pkl\", \"rb\") as f:\n",
    "    sample = pickle.load(f)\n",
    "\n",
    "print(\"Sample keys:\", sample.keys())"
   ]
  },
  {
   "cell_type": "code",
   "execution_count": 5,
   "id": "d58e36ac-d91f-4615-b429-9cead98913ac",
   "metadata": {},
   "outputs": [
    {
     "name": "stdout",
     "output_type": "stream",
     "text": [
      "Points shape: (16384, 4)\n",
      "Min/Max values for all dimensions\n",
      "X: (5.25, 63.28)\n",
      "Y: (-15.11, 29.17)\n",
      "Z: (-2.43, 2.02)\n"
     ]
    }
   ],
   "source": [
    "points = sample['points']\n",
    "\n",
    "print(\"Points shape:\", points.shape)\n",
    "print('Min/Max values for all dimensions')\n",
    "min_x, max_x, min_y, max_y, min_z, max_z = get_min_and_max_values(points)\n",
    "print(f\"X: ({min_x:.2f}, {max_x:.2f})\")\n",
    "print(f\"Y: ({min_y:.2f}, {max_y:.2f})\")\n",
    "print(f\"Z: ({min_z:.2f}, {max_z:.2f})\")"
   ]
  },
  {
   "cell_type": "code",
   "execution_count": 6,
   "id": "4d0f6af4-619b-44b0-becb-6d2a10e49bc4",
   "metadata": {},
   "outputs": [],
   "source": [
    "def get_gt_oriented_bounding_boxes(gt_boxes):\n",
    "    boxes = []\n",
    "    for box in gt_boxes:\n",
    "        x, y, z, dx, dy, dz, heading, class_idx = box\n",
    "        class_idx = int(class_idx)\n",
    "        obb = o3d.geometry.OrientedBoundingBox(\n",
    "            center=[0, 0, 0],\n",
    "            R=o3d.geometry.get_rotation_matrix_from_xyz([0, 0, heading]),\n",
    "            extent=[dx, dy, dz]\n",
    "        )\n",
    "        obb.translate([x, y, z])\n",
    "        obb.color = CLASS_COLORS.get(class_idx, (1, 1, 1))\n",
    "        boxes.append(obb)\n",
    "    return boxes\n",
    "\n",
    "\n",
    "points = sample['points'][:, :3]\n",
    "pcd = create_point_cloud(points)\n",
    "gt_boxes = get_gt_oriented_bounding_boxes(sample['gt_boxes'])\n",
    "o3d.visualization.draw_geometries([pcd, *gt_boxes])"
   ]
  },
  {
   "cell_type": "markdown",
   "id": "fb5f3053-80b1-4627-8357-2ab2ae344da6",
   "metadata": {},
   "source": [
    "### Original Data"
   ]
  },
  {
   "cell_type": "code",
   "execution_count": 7,
   "id": "cf865403-eea0-4875-856b-20a66f203a45",
   "metadata": {},
   "outputs": [
    {
     "name": "stdout",
     "output_type": "stream",
     "text": [
      "Points shape: (115384, 4)\n",
      "Min/Max values for all dimensions\n",
      "X: (-71.04, 73.04)\n",
      "Y: (-21.10, 53.80)\n",
      "Z: (-5.16, 2.67)\n"
     ]
    }
   ],
   "source": [
    "bin_path = \"/home/tom/kitti/training/velodyne/000000.bin\"\n",
    "orig_points = np.fromfile(bin_path, dtype=np.float32).reshape(-1, 4)\n",
    "\n",
    "print(\"Points shape:\", orig_points.shape)\n",
    "print('Min/Max values for all dimensions')\n",
    "min_x, max_x, min_y, max_y, min_z, max_z = get_min_and_max_values(orig_points)\n",
    "print(f\"X: ({min_x:.2f}, {max_x:.2f})\")\n",
    "print(f\"Y: ({min_y:.2f}, {max_y:.2f})\")\n",
    "print(f\"Z: ({min_z:.2f}, {max_z:.2f})\")"
   ]
  },
  {
   "cell_type": "code",
   "execution_count": 8,
   "id": "f1e8718c-bf04-43d2-b85f-141de7bb339f",
   "metadata": {},
   "outputs": [],
   "source": [
    "def get_labels(label_file_path):\n",
    "    labels = utils.parse_label_file(label_file_path)\n",
    "    return labels\n",
    "\n",
    "def get_Tr_cam_to_velo(calib_file_path):\n",
    "    calib = utils.parse_calib_file(calib_file_path)\n",
    "    Tr_velo_to_cam = calib['Tr_velo_to_cam']\n",
    "    Tr_velo_to_cam = np.vstack((Tr_velo_to_cam, [0, 0, 0, 1]))\n",
    "    Tr_cam_to_velo = calibration_utils.inverse_rigid_transform(Tr_velo_to_cam)\n",
    "    return Tr_cam_to_velo\n",
    "\n",
    "def get_gt_oriented_bounding_boxes(labels, Tr_cam_to_velo):\n",
    "    gt_oriented_boxes = []\n",
    "    for label in labels:\n",
    "        corners_3d_velo = calibration_utils.compute_box_3d(label, Tr_cam_to_velo)\n",
    "        pcd = o3d.geometry.PointCloud()\n",
    "        pcd.points = o3d.utility.Vector3dVector(corners_3d_velo)\n",
    "        oriented_bbox = pcd.get_oriented_bounding_box()\n",
    "        oriented_bbox.color = (0, 1, 0)\n",
    "        gt_oriented_boxes.append(oriented_bbox)\n",
    "    return gt_oriented_boxes\n",
    "\n",
    "\n",
    "orig_points = orig_points[:, :3]\n",
    "orig_pcd = create_point_cloud(orig_points)\n",
    "\n",
    "label_file_path = \"/home/tom/kitti/training/label_2/000000.txt\"\n",
    "labels = get_labels(label_file_path)\n",
    "\n",
    "calib_file_path = \"/home/tom/kitti/training/calib/000000.txt\"\n",
    "Tr_cam_to_velo = get_Tr_cam_to_velo(calib_file_path)\n",
    "\n",
    "gt_oriented_boxes = get_gt_oriented_bounding_boxes(labels, Tr_cam_to_velo)\n",
    "o3d.visualization.draw_geometries([orig_pcd, *gt_oriented_boxes])"
   ]
  }
 ],
 "metadata": {
  "kernelspec": {
   "display_name": "Python (pcdet)",
   "language": "python",
   "name": "pcdet-env"
  },
  "language_info": {
   "codemirror_mode": {
    "name": "ipython",
    "version": 3
   },
   "file_extension": ".py",
   "mimetype": "text/x-python",
   "name": "python",
   "nbconvert_exporter": "python",
   "pygments_lexer": "ipython3",
   "version": "3.12.3"
  }
 },
 "nbformat": 4,
 "nbformat_minor": 5
}
