{
 "cells": [
  {
   "cell_type": "code",
   "execution_count": 1,
   "id": "2fbe1cb0-4c95-404c-ba3c-5d8d889b8afd",
   "metadata": {},
   "outputs": [
    {
     "name": "stdout",
     "output_type": "stream",
     "text": [
      "Jupyter environment detected. Enabling Open3D WebVisualizer.\n",
      "[Open3D INFO] WebRTC GUI backend enabled.\n",
      "[Open3D INFO] WebRTCWindowSystem: HTTP handshake server disabled.\n"
     ]
    }
   ],
   "source": [
    "import pickle\n",
    "\n",
    "import open3d as o3d\n",
    "import matplotlib.pyplot as plt"
   ]
  },
  {
   "cell_type": "code",
   "execution_count": 2,
   "id": "81518ef6-ad16-48a7-8873-9052ce35b831",
   "metadata": {},
   "outputs": [],
   "source": [
    "with open(\"data/sample_000000.pkl\", \"rb\") as f:\n",
    "    sample = pickle.load(f)"
   ]
  },
  {
   "cell_type": "code",
   "execution_count": 3,
   "id": "635caed4-ed41-4ecf-9a98-1d0f18595015",
   "metadata": {},
   "outputs": [
    {
     "name": "stdout",
     "output_type": "stream",
     "text": [
      "Points shape: (16384, 4)\n",
      "Frame ID: 000000\n",
      "Sample keys: dict_keys(['frame_id', 'gt_boxes', 'points', 'flip_x', 'noise_rot', 'noise_scale', 'lidar_aug_matrix', 'use_lead_xyz', 'image_shape'])\n",
      "[[15.322624   -0.9945517  -1.3005242   0.37      ]\n",
      " [16.28796     5.4508047  -0.45010167  0.32      ]\n",
      " [11.225035    7.8189     -1.5432059   0.21      ]\n",
      " ...\n",
      " [10.327182    5.269324   -1.5712075   0.4       ]\n",
      " [13.737979   -5.4365177  -1.3347485   0.22      ]\n",
      " [12.59426    10.674768    0.26653486  0.27      ]]\n"
     ]
    }
   ],
   "source": [
    "points = sample['points']\n",
    "print(\"Points shape:\", points.shape)\n",
    "print(\"Frame ID:\", sample['frame_id'])\n",
    "print(\"Sample keys:\", sample.keys())\n",
    "print(sample['points'])"
   ]
  },
  {
   "cell_type": "code",
   "execution_count": 4,
   "id": "163675d7-a158-4c94-ac4f-9ae89e703c81",
   "metadata": {},
   "outputs": [],
   "source": [
    "CLASS_COLORS = {\n",
    "    1: (1, 0, 0),    # Car     (red)\n",
    "    2: (0, 1, 0),    # Pedestrian (green)\n",
    "    3: (0, 0, 1)     # Cyclist (blue)\n",
    "}"
   ]
  },
  {
   "cell_type": "code",
   "execution_count": 6,
   "id": "4d0f6af4-619b-44b0-becb-6d2a10e49bc4",
   "metadata": {},
   "outputs": [],
   "source": [
    "points = sample['points'][:, :3]\n",
    "\n",
    "pcd = o3d.geometry.PointCloud()\n",
    "pcd.points = o3d.utility.Vector3dVector(points)\n",
    "\n",
    "z = points[:, 2]\n",
    "z_norm = (z - z.min()) / (z.max() - z.min() + 1e-6)\n",
    "colors = plt.cm.jet(z_norm)[:, :3]\n",
    "pcd.colors = o3d.utility.Vector3dVector(colors)\n",
    "\n",
    "gt_boxes = sample['gt_boxes']\n",
    "boxes = []\n",
    "for box in gt_boxes:\n",
    "    x, y, z, dx, dy, dz, heading, class_idx = box\n",
    "    class_idx = int(class_idx)\n",
    "    obb = o3d.geometry.OrientedBoundingBox(\n",
    "        center=[0, 0, 0],\n",
    "        R=o3d.geometry.get_rotation_matrix_from_xyz([0, 0, heading]),\n",
    "        extent=[dx, dy, dz]\n",
    "    )\n",
    "    obb.translate([x, y, z])\n",
    "    obb.color = CLASS_COLORS.get(class_idx, (1, 1, 1))\n",
    "    boxes.append(obb)\n",
    "\n",
    "o3d.visualization.draw_geometries([pcd, *boxes])"
   ]
  }
 ],
 "metadata": {
  "kernelspec": {
   "display_name": "Python (pcdet)",
   "language": "python",
   "name": "pcdet-env"
  },
  "language_info": {
   "codemirror_mode": {
    "name": "ipython",
    "version": 3
   },
   "file_extension": ".py",
   "mimetype": "text/x-python",
   "name": "python",
   "nbconvert_exporter": "python",
   "pygments_lexer": "ipython3",
   "version": "3.12.3"
  }
 },
 "nbformat": 4,
 "nbformat_minor": 5
}
