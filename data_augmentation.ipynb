{
 "cells": [
  {
   "cell_type": "code",
   "execution_count": 1,
   "id": "2fbe1cb0-4c95-404c-ba3c-5d8d889b8afd",
   "metadata": {},
   "outputs": [
    {
     "name": "stdout",
     "output_type": "stream",
     "text": [
      "Jupyter environment detected. Enabling Open3D WebVisualizer.\n",
      "[Open3D INFO] WebRTC GUI backend enabled.\n",
      "[Open3D INFO] WebRTCWindowSystem: HTTP handshake server disabled.\n"
     ]
    }
   ],
   "source": [
    "import cv2\n",
    "import numpy as np\n",
    "import open3d as o3d\n",
    "import matplotlib.pyplot as plt\n",
    "\n",
    "from pathlib import Path"
   ]
  },
  {
   "cell_type": "code",
   "execution_count": 2,
   "id": "e16f4e4f-d1fb-442a-abff-2b05c2061c6b",
   "metadata": {},
   "outputs": [
    {
     "data": {
      "text/plain": [
       "<module 'calibration_utils' from '/home/tom/Documents/UNT/csce6260/projects/pcdet_notebooks/calibration_utils.py'>"
      ]
     },
     "execution_count": 2,
     "metadata": {},
     "output_type": "execute_result"
    }
   ],
   "source": [
    "import utils\n",
    "import calibration_utils\n",
    "\n",
    "import importlib\n",
    "importlib.reload(utils)\n",
    "importlib.reload(calibration_utils)"
   ]
  },
  {
   "cell_type": "code",
   "execution_count": 3,
   "id": "66e3b9df-c1a1-45b8-a1dd-5479edf81015",
   "metadata": {},
   "outputs": [],
   "source": [
    "base = Path.home() / \"kitti\"\n",
    "train_dir = base / \"training\"\n",
    "velo_dir = train_dir / \"velodyne\"\n",
    "calib_dir = train_dir / \"calib\"\n",
    "label_dir = train_dir / \"label_2\"\n",
    "img_dir = train_dir/ \"image_2\""
   ]
  },
  {
   "cell_type": "code",
   "execution_count": 4,
   "id": "002aa670-a300-4066-9eb5-1c53ecbfad72",
   "metadata": {},
   "outputs": [],
   "source": [
    "def format_filename(sample_id, ext=\"txt\"):\n",
    "    return f\"{sample_id:06d}.{ext}\"\n",
    "\n",
    "sample_id = 0\n",
    "bin_path = velo_dir / format_filename(sample_id, \"bin\")\n",
    "points = np.fromfile(bin_path, dtype=np.float32).reshape(-1, 4)"
   ]
  },
  {
   "cell_type": "code",
   "execution_count": 5,
   "id": "ce8b3b15-794e-4b3c-ab7f-59d4ff63925d",
   "metadata": {},
   "outputs": [
    {
     "name": "stdout",
     "output_type": "stream",
     "text": [
      "Points shape: (115384, 4)\n",
      "Min/Max values for all dimensions\n",
      "X: (-71.04, 73.04)\n",
      "Y: (-21.10, 53.80)\n",
      "Z: (-5.16, 2.67)\n"
     ]
    }
   ],
   "source": [
    "def get_min_and_max_values(points):\n",
    "    min_x, max_x = np.min(points[:, 0]), np.max(points[:, 0])\n",
    "    min_y, max_y = np.min(points[:, 1]), np.max(points[:, 1])\n",
    "    min_z, max_z = np.min(points[:, 2]), np.max(points[:, 2])\n",
    "    return min_x, max_x, min_y, max_y, min_z, max_z\n",
    "\n",
    "print(\"Points shape:\", points.shape)\n",
    "print('Min/Max values for all dimensions')\n",
    "min_x, max_x, min_y, max_y, min_z, max_z = get_min_and_max_values(points)\n",
    "print(f\"X: ({min_x:.2f}, {max_x:.2f})\")\n",
    "print(f\"Y: ({min_y:.2f}, {max_y:.2f})\")\n",
    "print(f\"Z: ({min_z:.2f}, {max_z:.2f})\")"
   ]
  },
  {
   "cell_type": "code",
   "execution_count": 6,
   "id": "0c02dcab-c6ef-4af3-9946-03f2ab134241",
   "metadata": {},
   "outputs": [],
   "source": [
    "CLASS_COLORS = {\n",
    "    1: (1, 0, 0),    # Car     (red)\n",
    "    2: (0, 1, 0),    # Pedestrian (green)\n",
    "    3: (0, 0, 1)     # Cyclist (blue)\n",
    "}\n",
    "\n",
    "def get_point_colors(z):\n",
    "    z_norm = (z - z.min()) / (z.max() - z.min() + 1e-6)\n",
    "    colors = plt.cm.jet(z_norm)[:, :3]\n",
    "    return colors\n",
    "\n",
    "def create_point_cloud(points):\n",
    "    pcd = o3d.geometry.PointCloud()\n",
    "    pcd.points = o3d.utility.Vector3dVector(points)\n",
    "    colors = get_point_colors(points[:, 2])\n",
    "    pcd.colors = o3d.utility.Vector3dVector(colors)\n",
    "    return pcd\n",
    "\n",
    "points = points[:, :3]\n",
    "pcd = create_point_cloud(points)"
   ]
  },
  {
   "cell_type": "code",
   "execution_count": 7,
   "id": "f1e8718c-bf04-43d2-b85f-141de7bb339f",
   "metadata": {},
   "outputs": [],
   "source": [
    "def get_cam_to_velo_transform(Tr_velo_to_cam):\n",
    "    Tr_velo_to_cam = np.vstack((Tr_velo_to_cam, [0, 0, 0, 1]))\n",
    "    Tr_cam_to_velo = calibration_utils.inverse_rigid_transform(Tr_velo_to_cam)\n",
    "    return Tr_cam_to_velo\n",
    "\n",
    "def get_gt_oriented_bounding_boxes(labels, Tr_cam_to_velo):\n",
    "    gt_oriented_boxes = []\n",
    "    for label in labels:\n",
    "        corners_3d_velo = calibration_utils.compute_box_3d(label, Tr_cam_to_velo)\n",
    "        pcd = o3d.geometry.PointCloud()\n",
    "        pcd.points = o3d.utility.Vector3dVector(corners_3d_velo)\n",
    "        oriented_bbox = pcd.get_oriented_bounding_box()\n",
    "        oriented_bbox.color = (0, 1, 0)\n",
    "        gt_oriented_boxes.append(oriented_bbox)\n",
    "    return gt_oriented_boxes\n",
    "\n",
    "\n",
    "label_file_path = label_dir / format_filename(sample_id, \"txt\")\n",
    "labels = utils.parse_label_file(label_file_path)\n",
    "\n",
    "calib_file_path = calib_dir / format_filename(sample_id, \"txt\")\n",
    "calib = utils.parse_calib_file(calib_file_path)\n",
    "Tr_velo_to_cam = calib['Tr_velo_to_cam']\n",
    "Tr_cam_to_velo = get_cam_to_velo_transform(Tr_velo_to_cam)\n",
    "\n",
    "gt_boxes = get_gt_oriented_bounding_boxes(labels, Tr_cam_to_velo)\n",
    "\n",
    "o3d.visualization.draw_geometries([pcd, *gt_boxes])"
   ]
  },
  {
   "cell_type": "markdown",
   "id": "6bcbfbab-0b7b-4bf7-8fd7-d2128e892d18",
   "metadata": {},
   "source": [
    "### Data Processing (mask/sample/shuffle)"
   ]
  },
  {
   "cell_type": "markdown",
   "id": "88111bdb-d576-43fb-ac9b-d8039aef4344",
   "metadata": {},
   "source": [
    "#### Field-of-View (FOV) Filtering"
   ]
  },
  {
   "cell_type": "code",
   "execution_count": 8,
   "id": "7725d98d-ae72-4e84-90ce-b564f55fe49c",
   "metadata": {},
   "outputs": [
    {
     "name": "stdout",
     "output_type": "stream",
     "text": [
      "Points shape: (20285, 3)\n",
      "Min/Max values for all dimensions\n",
      "X: (4.53, 73.04)\n",
      "Y: (-16.13, 23.59)\n",
      "Z: (-2.35, 2.64)\n"
     ]
    }
   ],
   "source": [
    "def get_finite_mask(points_img_coords):\n",
    "    mask_finite = np.isfinite(points_img_coords).all(axis=1)\n",
    "    return mask_finite\n",
    "\n",
    "def get_img_mask(points_img_coords, img_shape):\n",
    "    u = points_img_coords[:, 0]\n",
    "    v = points_img_coords[:, 1]\n",
    "    img_height, img_width = img_shape\n",
    "    mask_img = (u >= 0) & (u < img_width) & (v >= 0) & (v < img_height)\n",
    "    return mask_img\n",
    "\n",
    "def get_depth_mask(depth):\n",
    "    return depth >= 0\n",
    "    \n",
    "def get_fov_mask(points_img_coords, img_shape):\n",
    "    mask_finite = get_finite_mask(points_img_coords)\n",
    "    mask_img = get_img_mask(points_img_coords, img_shape)\n",
    "    mask_depth = get_depth_mask(points_img_coords[:, 2])    \n",
    "    return mask_finite & mask_img & mask_depth\n",
    "\n",
    "def get_image_shape(img_path):\n",
    "    img = cv2.imread(str(img_path))\n",
    "    img_shape = img.shape\n",
    "    return img_shape[:2]\n",
    "\n",
    "\n",
    "points_img_coords = calibration_utils.convert_to_img_coords(points, calib)\n",
    "img_path = img_dir / format_filename(sample_id, \"png\")\n",
    "img_shape = get_image_shape(img_path)\n",
    "mask_fov = get_fov_mask(points_img_coords, img_shape)\n",
    "points = points[mask_fov]\n",
    "print(\"Points shape:\", points.shape)\n",
    "print('Min/Max values for all dimensions')\n",
    "min_x, max_x, min_y, max_y, min_z, max_z = get_min_and_max_values(points)\n",
    "print(f\"X: ({min_x:.2f}, {max_x:.2f})\")\n",
    "print(f\"Y: ({min_y:.2f}, {max_y:.2f})\")\n",
    "print(f\"Z: ({min_z:.2f}, {max_z:.2f})\")"
   ]
  },
  {
   "cell_type": "markdown",
   "id": "acbaa22c-2653-413e-83bc-bbe8994fafe3",
   "metadata": {},
   "source": [
    "#### Mask Points and Boxes Outside Range"
   ]
  },
  {
   "cell_type": "code",
   "execution_count": 9,
   "id": "b201400f-c2ba-495f-bf95-88648fcb4d2b",
   "metadata": {},
   "outputs": [
    {
     "name": "stdout",
     "output_type": "stream",
     "text": [
      "Points shape: (20266, 3)\n",
      "Min/Max values for all dimensions\n",
      "X: (4.53, 59.86)\n",
      "Y: (-16.13, 23.59)\n",
      "Z: (-2.35, 1.94)\n"
     ]
    }
   ],
   "source": [
    "POINT_CLOUD_X_RANGE = 0, 70.4\n",
    "POINT_CLOUD_Y_RANGE = -40, 40\n",
    "POINT_CLOUD_Z_RANGE = -3, 1\n",
    "\n",
    "def mask_points_outside_range(points):\n",
    "    min_x, max_x = POINT_CLOUD_X_RANGE\n",
    "    min_y, max_y = POINT_CLOUD_Y_RANGE\n",
    "    mask = (points[:, 0] >= min_x) & (points[:, 0] <= max_x) \\\n",
    "           & (points[:, 1] >= min_y) & (points[:, 1] <= max_y)\n",
    "    return points[mask]\n",
    "\n",
    "\n",
    "points = mask_points_outside_range(points)\n",
    "print(\"Points shape:\", points.shape)\n",
    "print('Min/Max values for all dimensions')\n",
    "min_x, max_x, min_y, max_y, min_z, max_z = get_min_and_max_values(points)\n",
    "print(f\"X: ({min_x:.2f}, {max_x:.2f})\")\n",
    "print(f\"Y: ({min_y:.2f}, {max_y:.2f})\")\n",
    "print(f\"Z: ({min_z:.2f}, {max_z:.2f})\")"
   ]
  },
  {
   "cell_type": "code",
   "execution_count": 10,
   "id": "44618427-4dfa-4925-a8a4-b9db6b4465b9",
   "metadata": {},
   "outputs": [],
   "source": [
    "def mask_boxes_outside_range(gt_boxes):\n",
    "    min_xyz = np.array([POINT_CLOUD_X_RANGE[0], POINT_CLOUD_Y_RANGE[0], POINT_CLOUD_Z_RANGE[0]])\n",
    "    max_xyz = np.array([POINT_CLOUD_X_RANGE[1], POINT_CLOUD_Y_RANGE[1], POINT_CLOUD_Z_RANGE[1]])\n",
    "    return [box for box in gt_boxes if np.all(box.center >= min_xyz) and np.all(box.center <= max_xyz)]\n",
    "\n",
    "\n",
    "pcd = create_point_cloud(points)\n",
    "gt_boxes = mask_boxes_outside_range(gt_boxes)\n",
    "o3d.visualization.draw_geometries([pcd, *gt_boxes])"
   ]
  },
  {
   "cell_type": "markdown",
   "id": "8f3d0bbf-f7e0-4122-955b-cc9e6499702d",
   "metadata": {},
   "source": [
    "#### Sample Points"
   ]
  },
  {
   "cell_type": "code",
   "execution_count": 11,
   "id": "9e0c90dc-4b41-4901-81a1-7c83c65bc924",
   "metadata": {},
   "outputs": [
    {
     "name": "stdout",
     "output_type": "stream",
     "text": [
      "Points shape: (16384, 3)\n",
      "Min/Max values for all dimensions\n",
      "X: (4.53, 59.86)\n",
      "Y: (-16.13, 23.59)\n",
      "Z: (-2.35, 1.94)\n"
     ]
    }
   ],
   "source": [
    "MAX_POINTS = 16384\n",
    "\n",
    "def exceeds_max_points(points):\n",
    "    return points.shape[0] > MAX_POINTS\n",
    "\n",
    "def get_mask_points_near(points):\n",
    "    points_dist = np.linalg.norm(points, axis=1)\n",
    "    mask_points_near = points_dist < 40.0\n",
    "    return mask_points_near\n",
    "\n",
    "def get_far_and_near_idx(points):\n",
    "    mask_points_near = get_mask_points_near(points)\n",
    "    far_idx = np.where(mask_points_near == 0)[0]\n",
    "    near_idx = np.where(mask_points_near == 1)[0]\n",
    "    return far_idx, near_idx\n",
    "\n",
    "def is_far_sparse(far_points):\n",
    "    return far_points < MAX_POINTS\n",
    "\n",
    "def retain_far_and_sample_near(points):\n",
    "    far_idx, near_idx = get_far_and_near_idx(points)\n",
    "    num_sample = max(0, MAX_POINTS - len(far_idx))\n",
    "    sampled_near = np.random.choice(near_idx, num_sample, replace=False)\n",
    "    choice = np.concatenate((far_idx, sampled_near)) if len(far_idx) > 0 else sampled_near\n",
    "    np.random.shuffle(choice)\n",
    "    return points[choice]\n",
    "\n",
    "def sample_random(points):\n",
    "    choice = np.random.choice(len(points), MAX_POINTS, replace=False)\n",
    "    np.random.shuffle(choice)\n",
    "    return points[choice]\n",
    "\n",
    "def sample_distance_or_random(points):\n",
    "    far_idx, near_idx = get_far_and_near_idx(points)\n",
    "    if is_far_sparse(len(far_idx)):\n",
    "        sampled_points = retain_far_and_sample_near(points)\n",
    "    else:\n",
    "        sampled_points = sample_random(points)\n",
    "    return sampled_points\n",
    "\n",
    "def sample_first(points):\n",
    "    choice = np.random.choice(len(points), MAX_POINTS, replace=False)\n",
    "    np.random.shuffle(choice)\n",
    "    return points[choice]\n",
    "\n",
    "def sample_points(points):\n",
    "    if exceeds_max_points(points):\n",
    "        sampled_points = sample_distance_or_random(points)\n",
    "    else:\n",
    "        sampled_points = sample_first(points)\n",
    "    return sampled_points\n",
    "\n",
    "points = sample_points(points)\n",
    "print(\"Points shape:\", points.shape)\n",
    "print('Min/Max values for all dimensions')\n",
    "min_x, max_x, min_y, max_y, min_z, max_z = get_min_and_max_values(points)\n",
    "print(f\"X: ({min_x:.2f}, {max_x:.2f})\")\n",
    "print(f\"Y: ({min_y:.2f}, {max_y:.2f})\")\n",
    "print(f\"Z: ({min_z:.2f}, {max_z:.2f})\")"
   ]
  },
  {
   "cell_type": "code",
   "execution_count": 12,
   "id": "631c2b50-e00d-47b6-b6f8-fe08b776ef77",
   "metadata": {},
   "outputs": [],
   "source": [
    "pcd = create_point_cloud(points)\n",
    "o3d.visualization.draw_geometries([pcd, *gt_boxes])"
   ]
  }
 ],
 "metadata": {
  "kernelspec": {
   "display_name": "Python (pcdet)",
   "language": "python",
   "name": "pcdet-env"
  },
  "language_info": {
   "codemirror_mode": {
    "name": "ipython",
    "version": 3
   },
   "file_extension": ".py",
   "mimetype": "text/x-python",
   "name": "python",
   "nbconvert_exporter": "python",
   "pygments_lexer": "ipython3",
   "version": "3.12.3"
  }
 },
 "nbformat": 4,
 "nbformat_minor": 5
}
