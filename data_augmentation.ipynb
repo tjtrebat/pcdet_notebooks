{
 "cells": [
  {
   "cell_type": "code",
   "execution_count": 19,
   "id": "2fbe1cb0-4c95-404c-ba3c-5d8d889b8afd",
   "metadata": {},
   "outputs": [],
   "source": [
    "import pickle\n",
    "\n",
    "import cv2\n",
    "import numpy as np\n",
    "import open3d as o3d\n",
    "import matplotlib.pyplot as plt\n",
    "\n",
    "from pathlib import Path"
   ]
  },
  {
   "cell_type": "code",
   "execution_count": 2,
   "id": "e16f4e4f-d1fb-442a-abff-2b05c2061c6b",
   "metadata": {},
   "outputs": [
    {
     "data": {
      "text/plain": [
       "<module 'calibration_utils' from '/home/tom/Documents/UNT/csce6260/projects/pcdet_notebooks/calibration_utils.py'>"
      ]
     },
     "execution_count": 2,
     "metadata": {},
     "output_type": "execute_result"
    }
   ],
   "source": [
    "import utils\n",
    "import calibration_utils\n",
    "\n",
    "import importlib\n",
    "importlib.reload(utils)\n",
    "importlib.reload(calibration_utils)"
   ]
  },
  {
   "cell_type": "code",
   "execution_count": 3,
   "id": "0c02dcab-c6ef-4af3-9946-03f2ab134241",
   "metadata": {},
   "outputs": [],
   "source": [
    "CLASS_COLORS = {\n",
    "    1: (1, 0, 0),    # Car     (red)\n",
    "    2: (0, 1, 0),    # Pedestrian (green)\n",
    "    3: (0, 0, 1)     # Cyclist (blue)\n",
    "}\n",
    "\n",
    "def get_point_colors(z):\n",
    "    z_norm = (z - z.min()) / (z.max() - z.min() + 1e-6)\n",
    "    colors = plt.cm.jet(z_norm)[:, :3]\n",
    "    return colors\n",
    "\n",
    "def create_point_cloud(points):\n",
    "    pcd = o3d.geometry.PointCloud()\n",
    "    pcd.points = o3d.utility.Vector3dVector(points)\n",
    "    colors = get_point_colors(points[:, 2])\n",
    "    pcd.colors = o3d.utility.Vector3dVector(colors)\n",
    "    return pcd\n",
    "\n",
    "def get_min_and_max_values(points):\n",
    "    min_x, max_x = np.min(points[:, 0]), np.max(points[:, 0])\n",
    "    min_y, max_y = np.min(points[:, 1]), np.max(points[:, 1])\n",
    "    min_z, max_z = np.min(points[:, 2]), np.max(points[:, 2])\n",
    "    return min_x, max_x, min_y, max_y, min_z, max_z\n",
    "\n",
    "def format_filename(sample_id, ext=\"txt\"):\n",
    "    return f\"{sample_id:06d}.{ext}\""
   ]
  },
  {
   "cell_type": "markdown",
   "id": "6e083fed-8cfd-419d-965e-49e22fd6929b",
   "metadata": {},
   "source": [
    "### Augmented Data"
   ]
  },
  {
   "cell_type": "code",
   "execution_count": 4,
   "id": "dabef1a5-f186-4fcb-bb23-7b5fca07b235",
   "metadata": {},
   "outputs": [],
   "source": [
    "data_dir = Path.cwd() / \"data\""
   ]
  },
  {
   "cell_type": "code",
   "execution_count": 5,
   "id": "81518ef6-ad16-48a7-8873-9052ce35b831",
   "metadata": {},
   "outputs": [
    {
     "name": "stdout",
     "output_type": "stream",
     "text": [
      "Sample keys: dict_keys(['frame_id', 'gt_boxes', 'points', 'flip_x', 'noise_rot', 'noise_scale', 'lidar_aug_matrix', 'use_lead_xyz', 'image_shape'])\n"
     ]
    }
   ],
   "source": [
    "sample_id = 0\n",
    "sample_file_path = \"sample_\" + format_filename(sample_id, \"pkl\")\n",
    "sample_file_path = data_dir / sample_file_path\n",
    "\n",
    "with open(sample_file_path, \"rb\") as f:\n",
    "    sample = pickle.load(f)\n",
    "\n",
    "print(\"Sample keys:\", sample.keys())"
   ]
  },
  {
   "cell_type": "code",
   "execution_count": 6,
   "id": "d58e36ac-d91f-4615-b429-9cead98913ac",
   "metadata": {},
   "outputs": [
    {
     "name": "stdout",
     "output_type": "stream",
     "text": [
      "Points shape: (16384, 4)\n",
      "Min/Max values for all dimensions\n",
      "X: (5.25, 63.28)\n",
      "Y: (-15.11, 29.17)\n",
      "Z: (-2.43, 2.02)\n"
     ]
    }
   ],
   "source": [
    "points = sample['points']\n",
    "\n",
    "print(\"Points shape:\", points.shape)\n",
    "print('Min/Max values for all dimensions')\n",
    "min_x, max_x, min_y, max_y, min_z, max_z = get_min_and_max_values(points)\n",
    "print(f\"X: ({min_x:.2f}, {max_x:.2f})\")\n",
    "print(f\"Y: ({min_y:.2f}, {max_y:.2f})\")\n",
    "print(f\"Z: ({min_z:.2f}, {max_z:.2f})\")"
   ]
  },
  {
   "cell_type": "code",
   "execution_count": 7,
   "id": "4d0f6af4-619b-44b0-becb-6d2a10e49bc4",
   "metadata": {},
   "outputs": [],
   "source": [
    "def get_gt_oriented_bounding_boxes(gt_boxes):\n",
    "    boxes = []\n",
    "    for box in gt_boxes:\n",
    "        x, y, z, dx, dy, dz, heading, class_idx = box\n",
    "        class_idx = int(class_idx)\n",
    "        obb = o3d.geometry.OrientedBoundingBox(\n",
    "            center=[0, 0, 0],\n",
    "            R=o3d.geometry.get_rotation_matrix_from_xyz([0, 0, heading]),\n",
    "            extent=[dx, dy, dz]\n",
    "        )\n",
    "        obb.translate([x, y, z])\n",
    "        obb.color = CLASS_COLORS.get(class_idx, (1, 1, 1))\n",
    "        boxes.append(obb)\n",
    "    return boxes\n",
    "\n",
    "\n",
    "points = sample['points'][:, :3]\n",
    "pcd = create_point_cloud(points)\n",
    "gt_boxes = get_gt_oriented_bounding_boxes(sample['gt_boxes'])\n",
    "o3d.visualization.draw_geometries([pcd, *gt_boxes])"
   ]
  },
  {
   "cell_type": "markdown",
   "id": "fb5f3053-80b1-4627-8357-2ab2ae344da6",
   "metadata": {},
   "source": [
    "### Original Data"
   ]
  },
  {
   "cell_type": "code",
   "execution_count": 16,
   "id": "66e3b9df-c1a1-45b8-a1dd-5479edf81015",
   "metadata": {},
   "outputs": [],
   "source": [
    "base = Path.home() / \"kitti\"\n",
    "train_dir = base / \"training\"\n",
    "velo_dir = train_dir / \"velodyne\"\n",
    "calib_dir = train_dir / \"calib\"\n",
    "label_dir = train_dir / \"label_2\"\n",
    "img_dir = train_dir/ \"image_2\""
   ]
  },
  {
   "cell_type": "code",
   "execution_count": 9,
   "id": "cf865403-eea0-4875-856b-20a66f203a45",
   "metadata": {},
   "outputs": [
    {
     "name": "stdout",
     "output_type": "stream",
     "text": [
      "Points shape: (115384, 4)\n",
      "Min/Max values for all dimensions\n",
      "X: (-71.04, 73.04)\n",
      "Y: (-21.10, 53.80)\n",
      "Z: (-5.16, 2.67)\n"
     ]
    }
   ],
   "source": [
    "bin_path = velo_dir / format_filename(sample_id, \"bin\")\n",
    "orig_points = np.fromfile(bin_path, dtype=np.float32).reshape(-1, 4)\n",
    "\n",
    "print(\"Points shape:\", orig_points.shape)\n",
    "print('Min/Max values for all dimensions')\n",
    "min_x, max_x, min_y, max_y, min_z, max_z = get_min_and_max_values(orig_points)\n",
    "print(f\"X: ({min_x:.2f}, {max_x:.2f})\")\n",
    "print(f\"Y: ({min_y:.2f}, {max_y:.2f})\")\n",
    "print(f\"Z: ({min_z:.2f}, {max_z:.2f})\")"
   ]
  },
  {
   "cell_type": "code",
   "execution_count": 10,
   "id": "f1e8718c-bf04-43d2-b85f-141de7bb339f",
   "metadata": {},
   "outputs": [],
   "source": [
    "def get_labels(label_file_path):\n",
    "    labels = utils.parse_label_file(label_file_path)\n",
    "    return labels\n",
    "\n",
    "def get_Tr_cam_to_velo(calib_file_path):\n",
    "    calib = utils.parse_calib_file(calib_file_path)\n",
    "    Tr_velo_to_cam = calib['Tr_velo_to_cam']\n",
    "    Tr_velo_to_cam = np.vstack((Tr_velo_to_cam, [0, 0, 0, 1]))\n",
    "    Tr_cam_to_velo = calibration_utils.inverse_rigid_transform(Tr_velo_to_cam)\n",
    "    return Tr_cam_to_velo\n",
    "\n",
    "def get_gt_oriented_bounding_boxes(labels, Tr_cam_to_velo):\n",
    "    gt_oriented_boxes = []\n",
    "    for label in labels:\n",
    "        corners_3d_velo = calibration_utils.compute_box_3d(label, Tr_cam_to_velo)\n",
    "        pcd = o3d.geometry.PointCloud()\n",
    "        pcd.points = o3d.utility.Vector3dVector(corners_3d_velo)\n",
    "        oriented_bbox = pcd.get_oriented_bounding_box()\n",
    "        oriented_bbox.color = (0, 1, 0)\n",
    "        gt_oriented_boxes.append(oriented_bbox)\n",
    "    return gt_oriented_boxes\n",
    "\n",
    "\n",
    "orig_points = orig_points[:, :3]\n",
    "orig_pcd = create_point_cloud(orig_points)\n",
    "label_file_path = label_dir / format_filename(sample_id, \"txt\")\n",
    "labels = get_labels(label_file_path)\n",
    "calib_file_path = calib_dir / format_filename(sample_id, \"txt\")\n",
    "Tr_cam_to_velo = get_Tr_cam_to_velo(calib_file_path)\n",
    "orig_gt_boxes = get_gt_oriented_bounding_boxes(labels, Tr_cam_to_velo)\n",
    "o3d.visualization.draw_geometries([orig_pcd, *orig_gt_boxes])"
   ]
  },
  {
   "cell_type": "markdown",
   "id": "6bcbfbab-0b7b-4bf7-8fd7-d2128e892d18",
   "metadata": {},
   "source": [
    "### Data Processing (mask/sample/shuffle)"
   ]
  },
  {
   "cell_type": "markdown",
   "id": "88111bdb-d576-43fb-ac9b-d8039aef4344",
   "metadata": {},
   "source": [
    "### Field-of-View (FOV) Filtering"
   ]
  },
  {
   "cell_type": "code",
   "execution_count": 18,
   "id": "53316e62-51c7-48ad-96d6-2360706660b1",
   "metadata": {},
   "outputs": [
    {
     "data": {
      "text/plain": [
       "array([ 370, 1224], dtype=int32)"
      ]
     },
     "execution_count": 18,
     "metadata": {},
     "output_type": "execute_result"
    }
   ],
   "source": [
    "sample['image_shape']"
   ]
  },
  {
   "cell_type": "code",
   "execution_count": 20,
   "id": "7725d98d-ae72-4e84-90ce-b564f55fe49c",
   "metadata": {},
   "outputs": [
    {
     "data": {
      "text/plain": [
       "PosixPath('/home/tom/kitti/training/image_2/000000.png')"
      ]
     },
     "execution_count": 20,
     "metadata": {},
     "output_type": "execute_result"
    }
   ],
   "source": [
    "img_path = img_dir / format_filename(sample_id, \"png\")\n",
    "img_path"
   ]
  },
  {
   "cell_type": "code",
   "execution_count": 21,
   "id": "63638ea8-bfa7-491e-b241-8de916ea9683",
   "metadata": {},
   "outputs": [
    {
     "data": {
      "text/plain": [
       "(370, 1224, 3)"
      ]
     },
     "execution_count": 21,
     "metadata": {},
     "output_type": "execute_result"
    }
   ],
   "source": [
    "img = cv2.imread(str(img_path))\n",
    "img_shape = img.shape\n",
    "img_shape"
   ]
  },
  {
   "cell_type": "markdown",
   "id": "acbaa22c-2653-413e-83bc-bbe8994fafe3",
   "metadata": {},
   "source": [
    "#### Mask Points"
   ]
  },
  {
   "cell_type": "code",
   "execution_count": 11,
   "id": "b201400f-c2ba-495f-bf95-88648fcb4d2b",
   "metadata": {},
   "outputs": [
    {
     "name": "stdout",
     "output_type": "stream",
     "text": [
      "Points shape: (63082, 3)\n",
      "Min/Max values for all dimensions\n",
      "X: (-0.00, 59.86)\n",
      "Y: (-21.10, 34.73)\n",
      "Z: (-5.16, 1.94)\n"
     ]
    }
   ],
   "source": [
    "POINT_CLOUD_X_RANGE = 0, 70.4\n",
    "POINT_CLOUD_Y_RANGE = -40, 40\n",
    "POINT_CLOUD_Z_RANGE = -3, 1\n",
    "\n",
    "def mask_points_outside_range(points):\n",
    "    min_x, max_x = POINT_CLOUD_X_RANGE\n",
    "    min_y, max_y = POINT_CLOUD_Y_RANGE\n",
    "    mask = (points[:, 0] >= min_x) & (points[:, 0] <= max_x) \\\n",
    "           & (points[:, 1] >= min_y) & (points[:, 1] <= max_y)\n",
    "    return points[mask]\n",
    "\n",
    "def mask_boxes_outside_range(gt_boxes):\n",
    "    min_xyz = np.array([POINT_CLOUD_X_RANGE[0], POINT_CLOUD_Y_RANGE[0], POINT_CLOUD_Z_RANGE[0]])\n",
    "    max_xyz = np.array([POINT_CLOUD_X_RANGE[1], POINT_CLOUD_Y_RANGE[1], POINT_CLOUD_Z_RANGE[1]])\n",
    "    return [box for box in gt_boxes if np.all(box.center >= min_xyz) and np.all(box.center <= max_xyz)]\n",
    "\n",
    "orig_points_masked = mask_points_outside_range(orig_points)\n",
    "print(\"Points shape:\", orig_points_masked.shape)\n",
    "print('Min/Max values for all dimensions')\n",
    "min_x, max_x, min_y, max_y, min_z, max_z = get_min_and_max_values(orig_points_masked)\n",
    "print(f\"X: ({min_x:.2f}, {max_x:.2f})\")\n",
    "print(f\"Y: ({min_y:.2f}, {max_y:.2f})\")\n",
    "print(f\"Z: ({min_z:.2f}, {max_z:.2f})\")"
   ]
  },
  {
   "cell_type": "code",
   "execution_count": 12,
   "id": "44618427-4dfa-4925-a8a4-b9db6b4465b9",
   "metadata": {},
   "outputs": [],
   "source": [
    "orig_pcd_masked = create_point_cloud(orig_points_masked)\n",
    "orig_gt_boxes_masked = mask_boxes_outside_range(orig_gt_boxes)\n",
    "o3d.visualization.draw_geometries([orig_pcd_masked, *orig_gt_boxes_masked])"
   ]
  },
  {
   "cell_type": "markdown",
   "id": "8f3d0bbf-f7e0-4122-955b-cc9e6499702d",
   "metadata": {},
   "source": [
    "#### Sample Points"
   ]
  },
  {
   "cell_type": "code",
   "execution_count": 13,
   "id": "9e0c90dc-4b41-4901-81a1-7c83c65bc924",
   "metadata": {},
   "outputs": [
    {
     "name": "stdout",
     "output_type": "stream",
     "text": [
      "Points shape: (16384, 3)\n"
     ]
    }
   ],
   "source": [
    "MAX_POINTS = 16384\n",
    "\n",
    "def exceeds_max_points(points):\n",
    "    return points.shape[0] > MAX_POINTS\n",
    "\n",
    "def get_mask_points_near(points):\n",
    "    points_dist = np.linalg.norm(points, axis=1)\n",
    "    mask_points_near = points_dist < 40.0\n",
    "    return mask_points_near\n",
    "\n",
    "def get_far_and_near_idx(points):\n",
    "    mask_points_near = get_mask_points_near(points)\n",
    "    far_idx = np.where(mask_points_near == 0)[0]\n",
    "    near_idx = np.where(mask_points_near == 1)[0]\n",
    "    return far_idx, near_idx\n",
    "\n",
    "def is_far_sparse(far_points):\n",
    "    return far_points < MAX_POINTS\n",
    "\n",
    "def retain_far_and_sample_near(points):\n",
    "    far_idx, near_idx = get_far_and_near_idx(points)\n",
    "    num_sample = max(0, MAX_POINTS - len(far_idx))\n",
    "    sampled_near = np.random.choice(near_idx, num_sample, replace=False)\n",
    "    choice = np.concatenate((far_idx, sampled_near)) if len(far_idx) > 0 else sampled_near\n",
    "    np.random.shuffle(choice)\n",
    "    return points[choice]\n",
    "\n",
    "def sample_random(points):\n",
    "    choice = np.random.choice(len(points), MAX_POINTS, replace=False)\n",
    "    np.random.shuffle(choice)\n",
    "    return points[choice]\n",
    "\n",
    "def sample_distance_or_random(points):\n",
    "    far_idx, near_idx = get_far_and_near_idx(points)\n",
    "    if is_far_sparse(len(far_idx)):\n",
    "        sampled_points = retain_far_and_sample_near(points)\n",
    "    else:\n",
    "        sampled_points = sample_random(points)\n",
    "    return sampled_points\n",
    "\n",
    "def sample_first(points):\n",
    "    choice = np.random.choice(len(points), MAX_POINTS, replace=False)\n",
    "    np.random.shuffle(choice)\n",
    "    return points[choice]\n",
    "\n",
    "def sample_points(points):\n",
    "    if exceeds_max_points(points):\n",
    "        sampled_points = sample_distance_or_random(points)\n",
    "    else:\n",
    "        sampled_points = sample_first(points)\n",
    "    return sampled_points\n",
    "\n",
    "orig_points_sampled = sample_points(orig_points_masked)\n",
    "print(\"Points shape:\", orig_points_sampled.shape)"
   ]
  },
  {
   "cell_type": "code",
   "execution_count": 14,
   "id": "631c2b50-e00d-47b6-b6f8-fe08b776ef77",
   "metadata": {},
   "outputs": [],
   "source": [
    "orig_pcd_sampled = create_point_cloud(orig_points_sampled)\n",
    "o3d.visualization.draw_geometries([orig_pcd_sampled, *orig_gt_boxes_masked])"
   ]
  }
 ],
 "metadata": {
  "kernelspec": {
   "display_name": "Python (pcdet)",
   "language": "python",
   "name": "pcdet-env"
  },
  "language_info": {
   "codemirror_mode": {
    "name": "ipython",
    "version": 3
   },
   "file_extension": ".py",
   "mimetype": "text/x-python",
   "name": "python",
   "nbconvert_exporter": "python",
   "pygments_lexer": "ipython3",
   "version": "3.12.3"
  }
 },
 "nbformat": 4,
 "nbformat_minor": 5
}
